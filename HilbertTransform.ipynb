{
 "cells": [
  {
   "cell_type": "code",
   "execution_count": 1,
   "metadata": {
    "collapsed": true
   },
   "outputs": [],
   "source": [
    "#math and linear algebra stuff\n",
    "import numpy as np\n",
    "\n",
    "#plots\n",
    "import matplotlib as mpl\n",
    "mpl.rcParams['figure.figsize'] = (15.0, 15.0)\n",
    "#mpl.rc('text', usetex = True)\n",
    "import matplotlib.pyplot as plt\n",
    "%matplotlib inline"
   ]
  },
  {
   "cell_type": "markdown",
   "metadata": {},
   "source": [
    "# Hilbert transform\n",
    "\n",
    "## Introduction\n",
    "\n",
    "### Hilbert transform in direct space\n",
    "\n",
    "Hilbert transform is a very common tool in signal processing. it is a linear operator, that takes a function, say $u(t)$ and poduces a function $\\mathcal{H}(u)(t)$ with the same domain.\n",
    "\n",
    "In the framework of continuous functions, it can be defined as a convolution with the Hilbert kernel $h(t) = \\frac{1}{\\pi t}$:\n",
    "\n",
    "\\begin{align*}\n",
    "    \\mathcal{H}(u)(t) &=\\\\\n",
    "    &= \\int_{-\\infty}^{\\infty} u(\\tau)h(t-\\tau) d\\tau\\\\\n",
    "    &= \\frac{1}{\\pi} \\int_{-\\infty}^{\\infty} \\frac{u(\\tau)}{t-\\tau} d\\tau\n",
    "\\end{align*}\n",
    "\n",
    "Unfortunately, as one may have noticed, there are several problems with this expression\n",
    "- $u(\\tau)h(t-\\tau)$ has a singularity in $\\tau$\n",
    "- $u(\\tau)h(t-\\tau)$ does not decay fast enough to be integrable over $\\mathbb{R}$\n",
    "\n",
    "We deal with the signularity problem using Cauchy pricipal value in $\\tau$, ie\n",
    "\\begin{align*}\n",
    "    \\mathcal{H}(u)(t) &=\\text{p.v} \\int_{-\\infty}^{\\infty} u(\\tau)h(t-\\tau) d\\tau\\\\\n",
    "    &= \\underset{\\epsilon \\rightarrow 0^+}{lim} \\frac{1}{\\pi} \\left[ \\int_{-\\infty}^{t-\\epsilon} \\frac{u(\\tau)}{t-\\tau} d\\tau + \\int_{t+\\epsilon}^{\\infty} \\frac{u(\\tau)}{t-\\tau} d\\tau \\right]\\\\\n",
    "    &= -\\frac{1}{\\pi} \\underset{\\epsilon \\rightarrow 0^+}{lim} \\int_{\\epsilon}^{\\infty} \\frac{u(t+\\tau)-u(t-\\tau)}{\\tau} d\\tau\n",
    "\\end{align*}\n",
    "\n",
    "As a consequence, it can be shown that $\\mathcal{H}(\\mathcal{H}(u))(t) = -u(t)$\n",
    "\n",
    "### Hilbert transform in Fourier space\n",
    "\n",
    "The expression of the Hilbert transform of a function in Fourier space is much more friendly:\n",
    "$$\n",
    "    \\mathcal{F}(\\mathcal{H}(u))(f) = (-j \\text{sign}(f)) \\mathcal{F}(u)(f)\n",
    "$$\n",
    "$where \\mathcal{F}$ is the Fourier transform, $j = \\sqrt{-1}, \\in \\mathbb{I}$ and $\\text{sign}$ being defined as:\n",
    "$$\n",
    "    \\text{sign}(x) =\n",
    "    \\begin{cases}\n",
    "        -1&{\\text{if }} x<0, \\\\\n",
    "        0 &{\\text{if }} x=0, \\\\\n",
    "        1 &{\\text{if }} x>0, \\\\\n",
    "    \\end{cases}\n",
    "$$"
   ]
  },
  {
   "cell_type": "markdown",
   "metadata": {},
   "source": [
    "## Hermitian symmetry of real signals\n",
    "\n",
    "Before jumping onto practical use of Hilbert transform, we must recall some properties of the Fourier transform of even/odd functions in $\\mathbb{R}$:<br>\n",
    "\n",
    "Let $g$ be a real, and square integrable function of $\\mathbb{R}$ let's derive its Fourier transform:<br>\n",
    "\n",
    "\\begin{align*}\n",
    "    \\mathcal{F}(g)(f) &= \\int_{-\\infty}^{\\infty} g(x) e^{-2\\pi j f x} dx \\\\\n",
    "     &= \\int_{-\\infty}^{\\infty} g(x) (cos(-2\\pi j f x) + j sin(-2\\pi j f x)) dx \\\\\n",
    "     &= \\int_{-\\infty}^{\\infty} g(x) cos(-2\\pi j f x) dx + j \\int_{-\\infty}^{\\infty} g(x) sin(-2\\pi j f x)) dx \\\\\n",
    "     &= a(f) + j b(f) \\\\\n",
    "\\end{align*}\n",
    "\n",
    "We can see, without doing any additional assumption about $g$, that the Fourier transform of a real a function can be divided into a real part $a(f)$ and an imaginary part $b(f)$\n",
    "\n",
    "Let's take a closer look a the real part $a(f)$:\n",
    "\n",
    "\\begin{align*}\n",
    "    a(f) &= \\int_{-\\infty}^{\\infty} g(x) cos(-2\\pi j f x)) dx\\\\\n",
    "    &= \\int_{-\\infty}^{0} g(x) cos(-2\\pi j f x)) dx + \\int_{0}^{\\infty} g(x) cos(-2\\pi j f x)) dx\\\\\n",
    "    &= \\int_{-\\infty}^{0} g(x) cos(-2\\pi j f x)) dx + \\int_{0}^{-\\infty} g(-x) cos(2\\pi j f x)) dx\\\\\n",
    "    &= \\int_{-\\infty}^{0} g(x) cos(-2\\pi j f x)) dx + \\int_{-\\infty}^{0} g(-x) cos(-2\\pi j f x)) dx  \\quad \\text{because cos is even}\\\\\n",
    "    &= \\int_{-\\infty}^{0} (g(x)+g(-x)) cos(-2\\pi j f x)) dx \\\\\n",
    "    &= \\int_{-\\infty}^{0} (g(x)+g(-x)) cos(-2\\pi j (-f) x)) dx \\\\\n",
    "    &= a(-f)\n",
    "\\end{align*}\n",
    "\n",
    "It can easily be seen that, if $g$ is an odd function, then its Fourier transform will be imaginary, anyway, the real part of its Fourier transform will be even\n",
    "\n",
    "Let's take a closer look a the imaginary part $b(f)$:\n",
    "\\begin{align*}\n",
    "    b(f) &= \\int_{-\\infty}^{\\infty} g(x) sin(-2\\pi j f x)) dx\\\\\n",
    "    &= \\int_{-\\infty}^{0} g(x) sin(-2\\pi j f x)) dx + \\int_{0}^{\\infty} g(x) sin(-2\\pi j f x)) dx\\\\\n",
    "    &= \\int_{-\\infty}^{0} g(x) sin(-2\\pi j f x)) dx + \\int_{0}^{-\\infty} g(-x) sin(2\\pi j f x)) dx\\\\\n",
    "    &= \\int_{-\\infty}^{0} g(x) sin(-2\\pi j f x)) dx - \\int_{-\\infty}^{0} g(-x) sin(-2\\pi j f x)) dx  \\quad \\text{because sin is odd}\\\\\n",
    "    &= \\int_{-\\infty}^{0} (g(x)-g(-x)) sin(-2\\pi j f x)) dx \\\\\n",
    "    &= -\\int_{-\\infty}^{0} (g(x)-g(-x)) sin(-2\\pi j(-f) x)) dx \\\\\n",
    "    &= -b(f)\n",
    "\\end{align*}\n",
    "\n",
    "It can easily be seen that, if $g$ is an even function, then its Fourier transform will be real and even, anyway, the imaginary part of the Fourier transform of $g$ will always be odd.\n",
    "\n",
    "We can summarize those informations on the following table:\n",
    "\n",
    "\\begin{array}{c|c|c}\n",
    "& \\text{Real Part of Fourier transform} & \\text{Imaginary Part of Fourier transform} \\\\\n",
    "\\hline\n",
    "\\text{Real/Even function} & Even & 0 \\\\\n",
    "\\hline\n",
    "\\text{Real/Odd function} & 0 & Odd\n",
    "\\end{array}\n",
    "\n",
    "And what about functions that are neither even, nor odd ? It is easy to show that all function can actually be expressed as a sum of even and odd:\n",
    "\n",
    "\\begin{align*}\n",
    "    f(x) &= \\frac{1}{2} \\left( \\underbrace{f(x)+f(-x)}_{even} + \\underbrace{f(x)-f(-x)}_{odd} \\right)\n",
    "\\end{align*}\n",
    "\n",
    "We can then conclude that every real signal Fourier transform can be divided into an even real part and an odd imaginary part, which can be formalized as follows:\n",
    "\n",
    "$$\n",
    "    \\mathcal{F}(g)(-f) = \\overline{\\mathcal{F}(g)(f)}\n",
    "$$\n",
    "\n",
    "Where the $\\overline{(.)}$ stands for the complex conjugate. This property is called Hermitian symmetry."
   ]
  },
  {
   "cell_type": "code",
   "execution_count": 58,
   "metadata": {
    "collapsed": false
   },
   "outputs": [
    {
     "data": {
      "text/plain": [
       "<matplotlib.text.Text at 0x7f0bd1553510>"
      ]
     },
     "execution_count": 58,
     "metadata": {},
     "output_type": "execute_result"
    },
    {
     "data": {
      "image/png": "[encoded data removed]",
      "text/plain": [
       "<matplotlib.figure.Figure at 0x7f0bd1215250>"
      ]
     },
     "metadata": {},
     "output_type": "display_data"
    },
    {
     "data": {
      "image/png": "[encoded data removed]",
      "text/plain": [
       "<matplotlib.figure.Figure at 0x7f0bd20fbf50>"
      ]
     },
     "metadata": {},
     "output_type": "display_data"
    }
   ],
   "source": [
    "\"\"\"\n",
    "A simple application of Hermitian symmetry : How to generate a real white noise ?\n",
    "\n",
    "Here, the number of sample if very important, because discrete fourier transform is defined\n",
    "such that there will always be a zero frequency term.\n",
    "\n",
    "In the even case, N/2 th DFT term correspond to \\sum_i f(i) e(-j\\pi i) = \\sum_i f(i) e(+j\\pi i)\n",
    "which is considered as the negative part of the next periodic spectrum high frequency\n",
    "\n",
    "In the even case, we have, as seen \\sum_i f(i) e(-j\\pi i) = \\sum_i f(i) e(+j\\pi i) = prod_i e(j \\pi).\n",
    "It can be noticed that a product of a  pure imaginary is real... This term has then a null imaginary part\n",
    "\n",
    "In the odd case, floor(N/2) stands for positive high frequency and ceil(N/2) for negative high frequency\n",
    "\n",
    "In practice, this means that there are 2 cases (although index are the same):\n",
    "-dft for even number of N samples: [0] : 0 freq, [1:N/2] positive freq, [N/2::] negative freq\n",
    "-dft for odd number of N samples: [0] : 0 freq, [1:(N/2)+1] positive freq, [(N/2)+1::] negative freq :\n",
    "\n",
    "\"\"\"\n",
    "\n",
    "\n",
    "SAMPLING_FREQ = 1000.\n",
    "NB_SAMPLE = 101\n",
    "FSig = 50.\n",
    "FSig2 = 80.\n",
    "intNoise = 1e-1 #in percentage of signal power\n",
    "\n",
    "t = np.arange(NB_SAMPLE)/SAMPLING_FREQ\n",
    "signal = np.sin(2*np.pi*FSig*t)+np.sin(2*np.pi*FSig2*t)\n",
    "\n",
    "#handle even/odd length cases\n",
    "firstNegIdx = np.int(np.ceil(NB_SAMPLE/2.))\n",
    "sPosFreq = len(signal[1:firstNegIdx])\n",
    "sNegFreq = len(signal[firstNegIdx::])\n",
    "\n",
    "#Random noise\n",
    "minNoise = -intNoise\n",
    "maxNoise = intNoise\n",
    "\n",
    "#generate a random white noise for negative frequencies\n",
    "wnreal = np.random.uniform(minNoise,maxNoise,size=sNegFreq)\n",
    "#real part is even\n",
    "wnreal = np.concatenate((wnreal[::-1][0:sPosFreq],wnreal))\n",
    "#add zero frequency ie DC component\n",
    "wnreal = np.concatenate((np.random.uniform(minNoise,maxNoise,size=1),wnreal))\n",
    "\n",
    "#generate a random white noise for negative frequencies\n",
    "wnim = np.random.uniform(minNoise,maxNoise,size=sNegFreq)\n",
    "#imaginay part is odd\n",
    "wnim = np.concatenate((-wnim[::-1][0:sPosFreq],wnim))\n",
    "#DC component is obviously even, imaginary is zero\n",
    "wnim = np.concatenate((np.zeros(1),wnim))\n",
    "\n",
    "#See comment regarding product of pure imaginary\n",
    "if( NB_SAMPLE%2 == 0):\n",
    "    wnim[NB_SAMPLE/2] = 0\n",
    "\n",
    "#Actual complex FFT of the noise\n",
    "noiseSpectrum = wnreal+1j*wnim\n",
    "noiseDirect = np.fft.ifft(noiseSpectrum)\n",
    "\n",
    "#Check for Hermitian symmetry\n",
    "assert( np.isclose(noiseDirect.imag,0).all() )\n",
    "\n",
    "#Direct Space\n",
    "plt.figure(0)\n",
    "plt.plot(t,signal+noiseDirect.real,'r')\n",
    "plt.title(\"Noisy signal in direct space\")\n",
    "plt.xlabel(\"Time (s)\")\n",
    "plt.ylabel(\"Intensity\")\n",
    "\n",
    "#Compute power spectrum density for both noise and signal\n",
    "f = np.arange(0.,SAMPLING_FREQ/2.,SAMPLING_FREQ/NB_SAMPLE)\n",
    "psdNoise = (1./(SAMPLING_FREQ*NB_SAMPLE)) * np.abs(np.fft.fftshift(noiseSpectrum))**2\n",
    "psdSignal = (1./(SAMPLING_FREQ*NB_SAMPLE)) * np.abs(np.fft.fftshift(np.fft.fft(signal)))**2\n",
    "\n",
    "#Fourier space\n",
    "plt.figure(1)\n",
    "plt.plot(f,10*np.log10(psdNoise[NB_SAMPLE/2::]))\n",
    "plt.plot(f,10*np.log10(psdSignal[NB_SAMPLE/2::]))\n",
    "plt.title(\"Power spectrum density\")\n",
    "plt.xlabel(\"Frequency (Hz)\")\n",
    "plt.ylabel(\"Power/Frequency (dB/Hz)\")\n"
   ]
  },
  {
   "cell_type": "markdown",
   "metadata": {},
   "source": [
    "## Hilbert transform and single side band modulation"
   ]
  },
  {
   "cell_type": "markdown",
   "metadata": {},
   "source": []
  },
  {
   "cell_type": "code",
   "execution_count": null,
   "metadata": {
    "collapsed": true
   },
   "outputs": [],
   "source": []
  },
  {
   "cell_type": "markdown",
   "metadata": {},
   "source": [
    "## Bedrosian Identity\n"
   ]
  },
  {
   "cell_type": "code",
   "execution_count": null,
   "metadata": {
    "collapsed": true
   },
   "outputs": [],
   "source": []
  }
 ],
 "metadata": {
  "kernelspec": {
   "display_name": "Python 2",
   "language": "python",
   "name": "python2"
  },
  "language_info": {
   "codemirror_mode": {
    "name": "ipython",
    "version": 2
   },
   "file_extension": ".py",
   "mimetype": "text/x-python",
   "name": "python",
   "nbconvert_exporter": "python",
   "pygments_lexer": "ipython2",
   "version": "2.7.11"
  }
 },
 "nbformat": 4,
 "nbformat_minor": 0
}
