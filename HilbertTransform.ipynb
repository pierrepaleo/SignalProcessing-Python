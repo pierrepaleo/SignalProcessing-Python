{
 "cells": [
  {
   "cell_type": "code",
   "execution_count": 1,
   "metadata": {
    "collapsed": true
   },
   "outputs": [],
   "source": [
    "#math and linear algebra stuff\n",
    "import numpy as np\n",
    "\n",
    "#plots\n",
    "import matplotlib as mpl\n",
    "mpl.rcParams['figure.figsize'] = (15.0, 15.0)\n",
    "#mpl.rc('text', usetex = True)\n",
    "import matplotlib.pyplot as plt\n",
    "%matplotlib inline"
   ]
  },
  {
   "cell_type": "markdown",
   "metadata": {},
   "source": [
    "# Hilbert transform\n",
    "\n",
    "## Introduction\n",
    "\n",
    "### Hilbert transform in direct space\n",
    "\n",
    "Hilbert transform is a very common tool in signal processing. it is a linear operator, that takes a function, say $u(t)$ and poduces a function $\\mathcal{H}(u)(t)$ with the same domain.\n",
    "\n",
    "In the framework of continuous functions, it can be defined as a convolution with the Hilbert kernel $h(t) = \\frac{1}{\\pi t}$:\n",
    "\n",
    "\\begin{align*}\n",
    "    \\mathcal{H}(u)(t) &=\\\\\n",
    "    &= \\int_{-\\infty}^{\\infty} u(\\tau)h(t-\\tau) d\\tau\\\\\n",
    "    &= \\frac{1}{\\pi} \\int_{-\\infty}^{\\infty} \\frac{u(\\tau)}{t-\\tau} d\\tau\n",
    "\\end{align*}\n",
    "\n",
    "Unfortunately, as one may have noticed, there are several problems with this expression\n",
    "- $u(\\tau)h(t-\\tau)$ has a singularity in $\\tau$\n",
    "- $u(\\tau)h(t-\\tau)$ does not decay fast enough to be integrable over $\\mathbb{R}$\n",
    "\n",
    "We deal with the signularity problem using Cauchy pricipal value in $\\tau$, ie\n",
    "\\begin{align*}\n",
    "    \\mathcal{H}(u)(t) &=\\text{p.v} \\int_{-\\infty}^{\\infty} u(\\tau)h(t-\\tau) d\\tau\\\\\n",
    "    &= \\underset{\\epsilon \\rightarrow 0^+}{lim} \\frac{1}{\\pi} \\left[ \\int_{-\\infty}^{t-\\epsilon} \\frac{u(\\tau)}{t-\\tau} d\\tau + \\int_{t+\\epsilon}^{\\infty} \\frac{u(\\tau)}{t-\\tau} d\\tau \\right]\\\\\n",
    "    &= -\\frac{1}{\\pi} \\underset{\\epsilon \\rightarrow 0^+}{lim} \\int_{\\epsilon}^{\\infty} \\frac{u(t+\\tau)-u(t-\\tau)}{\\tau} d\\tau\n",
    "\\end{align*}\n",
    "\n",
    "As a consequence, it can be shown that $\\mathcal{H}(\\mathcal{H}(u))(t) = -u(t)$\n",
    "\n",
    "### Hilbert transform in Fourier space\n",
    "\n",
    "The expression of the Hilbert transform of a function in Fourier space is much more friendly:\n",
    "$$\n",
    "    \\mathcal{F}(\\mathcal{H}(u))(f) = (-j \\text{sign}(f)) \\mathcal{F}(u)(f)\n",
    "$$\n",
    "$where \\mathcal{F}$ is the Fourier transform, $j = \\sqrt{-1}, \\in \\mathbb{I}$ and $\\text{sign}$ being defined as:\n",
    "$$\n",
    "    \\text{sign}(x) =\n",
    "    \\begin{cases}\n",
    "        -1&{\\text{if }} x<0, \\\\\n",
    "        0 &{\\text{if }} x=0, \\\\\n",
    "        1 &{\\text{if }} x>0, \\\\\n",
    "    \\end{cases}\n",
    "$$"
   ]
  },
  {
   "cell_type": "markdown",
   "metadata": {},
   "source": [
    "## Hermitian symmetry of real signals\n",
    "\n",
    "Before jumping onto practical use of Hilbert transform, we must recall some properties of the Fourier transform of even/odd functions in $\\mathbb{R}$:<br>\n",
    "\n",
    "Let $g$ be a real, and square integrable function of $\\mathbb{R}$ let's derive its Fourier transform:<br>\n",
    "\n",
    "\\begin{align*}\n",
    "    \\mathcal{F}(g)(f) &= \\int_{-\\infty}^{\\infty} g(x) e^{-2\\pi j f x} dx \\\\\n",
    "     &= \\int_{-\\infty}^{\\infty} g(x) (cos(-2\\pi j f x) + j sin(-2\\pi j f x)) dx \\\\\n",
    "     &= \\int_{-\\infty}^{\\infty} g(x) cos(-2\\pi j f x) dx + j \\int_{-\\infty}^{\\infty} g(x) sin(-2\\pi j f x)) dx \\\\\n",
    "     &= a(f) + j b(f) \\\\\n",
    "\\end{align*}\n",
    "\n",
    "We can see, without doing any additional assumption about $g$, that the Fourier transform of a real a function can be divided into a real part $a(f)$ and an imaginary part $b(f)$\n",
    "\n",
    "Let's take a closer look a the real part $a(f)$:\n",
    "\n",
    "\\begin{align*}\n",
    "    a(f) &= \\int_{-\\infty}^{\\infty} g(x) cos(-2\\pi j f x)) dx\\\\\n",
    "    &= \\int_{-\\infty}^{0} g(x) cos(-2\\pi j f x)) dx + \\int_{0}^{\\infty} g(x) cos(-2\\pi j f x)) dx\\\\\n",
    "    &= \\int_{-\\infty}^{0} g(x) cos(-2\\pi j f x)) dx + \\int_{0}^{-\\infty} g(-x) cos(2\\pi j f x)) dx\\\\\n",
    "    &= \\int_{-\\infty}^{0} g(x) cos(-2\\pi j f x)) dx + \\int_{-\\infty}^{0} g(-x) cos(-2\\pi j f x)) dx  \\quad \\text{because cos is even}\\\\\n",
    "    &= \\int_{-\\infty}^{0} (g(x)+g(-x)) cos(-2\\pi j f x)) dx \\\\\n",
    "    &= \\int_{-\\infty}^{0} (g(x)+g(-x)) cos(-2\\pi j (-f) x)) dx \\\\\n",
    "    &= a(-f)\n",
    "\\end{align*}\n",
    "\n",
    "It can easily be seen that, if $g$ is an odd function, then its Fourier transform will be imaginary, anyway, the real part of its Fourie transform will be even\n",
    "\n",
    "Let's take a closer look a the imaginary part $b(f)$:\n",
    "\\begin{align*}\n",
    "    b(f) &= \\int_{-\\infty}^{\\infty} g(x) sin(-2\\pi j f x)) dx\\\\\n",
    "    &= \\int_{-\\infty}^{0} g(x) sin(-2\\pi j f x)) dx + \\int_{0}^{\\infty} g(x) sin(-2\\pi j f x)) dx\\\\\n",
    "    &= \\int_{-\\infty}^{0} g(x) sin(-2\\pi j f x)) dx + \\int_{0}^{-\\infty} g(-x) sin(2\\pi j f x)) dx\\\\\n",
    "    &= \\int_{-\\infty}^{0} g(x) sin(-2\\pi j f x)) dx - \\int_{-\\infty}^{0} g(-x) sin(-2\\pi j f x)) dx  \\quad \\text{because sin is odd}\\\\\n",
    "    &= \\int_{-\\infty}^{0} (g(x)-g(-x)) sin(-2\\pi j f x)) dx \\\\\n",
    "    &= -\\int_{-\\infty}^{0} (g(x)-g(-x)) sin(-2\\pi j(-f) x)) dx \\\\\n",
    "    &= -b(f)\n",
    "\\end{align*}\n",
    "\n",
    "It can easily be seen that, if $g$ is an even function, then its Fourier transform will be real and even, anyway, the imaginary part of the Fourier transform of $g$ will always be odd.\n",
    "\n",
    "We can summarize those informations on the following table:\n",
    "\n",
    "\n"
   ]
  },
  {
   "cell_type": "markdown",
   "metadata": {},
   "source": [
    "## Hilbert transform and single side band modulation"
   ]
  },
  {
   "cell_type": "markdown",
   "metadata": {},
   "source": []
  }
 ],
 "metadata": {
  "kernelspec": {
   "display_name": "Python 2",
   "language": "python",
   "name": "python2"
  },
  "language_info": {
   "codemirror_mode": {
    "name": "ipython",
    "version": 2
   },
   "file_extension": ".py",
   "mimetype": "text/x-python",
   "name": "python",
   "nbconvert_exporter": "python",
   "pygments_lexer": "ipython2",
   "version": "2.7.5"
  }
 },
 "nbformat": 4,
 "nbformat_minor": 0
}
